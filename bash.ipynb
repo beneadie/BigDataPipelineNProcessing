{
 "cells": [
  {
   "cell_type": "code",
   "execution_count": 17,
   "id": "5df83309",
   "metadata": {},
   "outputs": [
    {
     "name": "stderr",
     "output_type": "stream",
     "text": [
      "UsageError: %%bash is a cell magic, but the cell body is empty.\n"
     ]
    }
   ],
   "source": [
    "%%bash"
   ]
  },
  {
   "cell_type": "code",
   "execution_count": 12,
   "id": "556b31a6",
   "metadata": {},
   "outputs": [],
   "source": [
    "!wsl which bash"
   ]
  },
  {
   "cell_type": "code",
   "execution_count": 18,
   "id": "e113970f",
   "metadata": {},
   "outputs": [
    {
     "name": "stderr",
     "output_type": "stream",
     "text": [
      "<3>WSL (8) ERROR: CreateProcessEntryCommon:574: execvpe /bin/bash failed 2\n",
      "<3>WSL (8) ERROR: CreateProcessEntryCommon:583: Create process not expected to return\n"
     ]
    },
    {
     "ename": "CalledProcessError",
     "evalue": "Command 'b'!which bash\\n'' returned non-zero exit status 1.",
     "output_type": "error",
     "traceback": [
      "\u001b[1;31m---------------------------------------------------------------------------\u001b[0m",
      "\u001b[1;31mCalledProcessError\u001b[0m                        Traceback (most recent call last)",
      "Cell \u001b[1;32mIn [18], line 1\u001b[0m\n\u001b[1;32m----> 1\u001b[0m \u001b[43mget_ipython\u001b[49m\u001b[43m(\u001b[49m\u001b[43m)\u001b[49m\u001b[38;5;241;43m.\u001b[39;49m\u001b[43mrun_cell_magic\u001b[49m\u001b[43m(\u001b[49m\u001b[38;5;124;43m'\u001b[39;49m\u001b[38;5;124;43mbash\u001b[39;49m\u001b[38;5;124;43m'\u001b[39;49m\u001b[43m,\u001b[49m\u001b[43m \u001b[49m\u001b[38;5;124;43m'\u001b[39;49m\u001b[38;5;124;43m'\u001b[39;49m\u001b[43m,\u001b[49m\u001b[43m \u001b[49m\u001b[38;5;124;43m'\u001b[39;49m\u001b[38;5;124;43m!which bash\u001b[39;49m\u001b[38;5;130;43;01m\\n\u001b[39;49;00m\u001b[38;5;124;43m'\u001b[39;49m\u001b[43m)\u001b[49m\n",
      "File \u001b[1;32m~\\miniconda3\\lib\\site-packages\\IPython\\core\\interactiveshell.py:2417\u001b[0m, in \u001b[0;36mInteractiveShell.run_cell_magic\u001b[1;34m(self, magic_name, line, cell)\u001b[0m\n\u001b[0;32m   2415\u001b[0m \u001b[38;5;28;01mwith\u001b[39;00m \u001b[38;5;28mself\u001b[39m\u001b[38;5;241m.\u001b[39mbuiltin_trap:\n\u001b[0;32m   2416\u001b[0m     args \u001b[38;5;241m=\u001b[39m (magic_arg_s, cell)\n\u001b[1;32m-> 2417\u001b[0m     result \u001b[38;5;241m=\u001b[39m fn(\u001b[38;5;241m*\u001b[39margs, \u001b[38;5;241m*\u001b[39m\u001b[38;5;241m*\u001b[39mkwargs)\n\u001b[0;32m   2418\u001b[0m \u001b[38;5;28;01mreturn\u001b[39;00m result\n",
      "File \u001b[1;32m~\\miniconda3\\lib\\site-packages\\IPython\\core\\magics\\script.py:153\u001b[0m, in \u001b[0;36mScriptMagics._make_script_magic.<locals>.named_script_magic\u001b[1;34m(line, cell)\u001b[0m\n\u001b[0;32m    151\u001b[0m \u001b[38;5;28;01melse\u001b[39;00m:\n\u001b[0;32m    152\u001b[0m     line \u001b[38;5;241m=\u001b[39m script\n\u001b[1;32m--> 153\u001b[0m \u001b[38;5;28;01mreturn\u001b[39;00m \u001b[38;5;28;43mself\u001b[39;49m\u001b[38;5;241;43m.\u001b[39;49m\u001b[43mshebang\u001b[49m\u001b[43m(\u001b[49m\u001b[43mline\u001b[49m\u001b[43m,\u001b[49m\u001b[43m \u001b[49m\u001b[43mcell\u001b[49m\u001b[43m)\u001b[49m\n",
      "File \u001b[1;32m~\\miniconda3\\lib\\site-packages\\IPython\\core\\magics\\script.py:305\u001b[0m, in \u001b[0;36mScriptMagics.shebang\u001b[1;34m(self, line, cell)\u001b[0m\n\u001b[0;32m    300\u001b[0m \u001b[38;5;28;01mif\u001b[39;00m args\u001b[38;5;241m.\u001b[39mraise_error \u001b[38;5;129;01mand\u001b[39;00m p\u001b[38;5;241m.\u001b[39mreturncode \u001b[38;5;241m!=\u001b[39m \u001b[38;5;241m0\u001b[39m:\n\u001b[0;32m    301\u001b[0m     \u001b[38;5;66;03m# If we get here and p.returncode is still None, we must have\u001b[39;00m\n\u001b[0;32m    302\u001b[0m     \u001b[38;5;66;03m# killed it but not yet seen its return code. We don't wait for it,\u001b[39;00m\n\u001b[0;32m    303\u001b[0m     \u001b[38;5;66;03m# in case it's stuck in uninterruptible sleep. -9 = SIGKILL\u001b[39;00m\n\u001b[0;32m    304\u001b[0m     rc \u001b[38;5;241m=\u001b[39m p\u001b[38;5;241m.\u001b[39mreturncode \u001b[38;5;129;01mor\u001b[39;00m \u001b[38;5;241m-\u001b[39m\u001b[38;5;241m9\u001b[39m\n\u001b[1;32m--> 305\u001b[0m     \u001b[38;5;28;01mraise\u001b[39;00m CalledProcessError(rc, cell)\n",
      "\u001b[1;31mCalledProcessError\u001b[0m: Command 'b'!which bash\\n'' returned non-zero exit status 1."
     ]
    }
   ],
   "source": [
    "%%bash \n",
    "!which bash"
   ]
  },
  {
   "cell_type": "code",
   "execution_count": 19,
   "id": "0649f9fe",
   "metadata": {},
   "outputs": [
    {
     "name": "stdout",
     "output_type": "stream",
     "text": [
      "\"hello\" #testing\n"
     ]
    }
   ],
   "source": [
    "!echo \"hello\" #testing"
   ]
  },
  {
   "cell_type": "markdown",
   "id": "90235f41",
   "metadata": {},
   "source": [
    "### 1. \n",
    "   - create directory and check if it exists"
   ]
  },
  {
   "cell_type": "code",
   "execution_count": 20,
   "id": "2156d4cb",
   "metadata": {},
   "outputs": [
    {
     "name": "stderr",
     "output_type": "stream",
     "text": [
      "A subdirectory or file wikipedia-ml-raw already exists.\n"
     ]
    }
   ],
   "source": [
    "!mkdir wikipedia-ml-raw"
   ]
  },
  {
   "cell_type": "code",
   "execution_count": 21,
   "id": "fd872b16",
   "metadata": {},
   "outputs": [
    {
     "data": {
      "text/plain": [
       "'C:\\\\Users\\\\User\\\\Documents\\\\notebooks\\\\BIG_DATA_ASSIGNMENT_ONE'"
      ]
     },
     "execution_count": 21,
     "metadata": {},
     "output_type": "execute_result"
    }
   ],
   "source": [
    "pwd"
   ]
  },
  {
   "cell_type": "code",
   "execution_count": 22,
   "id": "10c9b0f2",
   "metadata": {},
   "outputs": [
    {
     "name": "stdout",
     "output_type": "stream",
     "text": [
      " Volume in drive C is Windows\n",
      " Volume Serial Number is 78C9-6226\n",
      "\n",
      " Directory of C:\\Users\\User\\Documents\\notebooks\\BIG_DATA_ASSIGNMENT_ONE\n",
      "\n",
      "19/03/2023  15:40    <DIR>          .\n",
      "16/03/2023  00:02    <DIR>          ..\n",
      "06/03/2023  15:29    <DIR>          .ipynb_checkpoints\n",
      "27/02/2023  15:18               215 article-ids.txt\n",
      "19/03/2023  15:40            10,903 bash.ipynb\n",
      "07/03/2023  14:56                98 check_folder_exists.sh\n",
      "07/03/2023  16:35               324 html_mine.sh\n",
      "27/02/2023  15:18             3,446 parse_article.py\n",
      "27/02/2023  15:18               109 parse_article.sh\n",
      "07/03/2023  16:37    <DIR>          wikipedia-ml-raw\n",
      "               6 File(s)         15,095 bytes\n",
      "               4 Dir(s)  406,166,204,416 bytes free\n"
     ]
    }
   ],
   "source": [
    "ls"
   ]
  },
  {
   "cell_type": "markdown",
   "id": "095b74b3",
   "metadata": {},
   "source": [
    "- script check if file exists"
   ]
  },
  {
   "cell_type": "code",
   "execution_count": 23,
   "id": "5d48f077",
   "metadata": {},
   "outputs": [
    {
     "name": "stderr",
     "output_type": "stream",
     "text": [
      "<3>WSL (11) ERROR: CreateProcessEntryCommon:574: execvpe /bin/bash failed 2\n",
      "<3>WSL (11) ERROR: CreateProcessEntryCommon:583: Create process not expected to return\n"
     ]
    }
   ],
   "source": [
    "!bash check_folder_exists.sh \"wikipedia-ml-raw\""
   ]
  },
  {
   "cell_type": "code",
   "execution_count": 24,
   "id": "92fe2a70",
   "metadata": {},
   "outputs": [
    {
     "name": "stderr",
     "output_type": "stream",
     "text": [
      "'cat' is not recognized as an internal or external command,\n",
      "operable program or batch file.\n"
     ]
    }
   ],
   "source": [
    "!cat article-ids.txt"
   ]
  },
  {
   "cell_type": "code",
   "execution_count": 25,
   "id": "9cb63005",
   "metadata": {},
   "outputs": [
    {
     "name": "stderr",
     "output_type": "stream",
     "text": [
      "<3>WSL (14) ERROR: CreateProcessEntryCommon:574: execvpe /bin/bash failed 2\n",
      "<3>WSL (14) ERROR: CreateProcessEntryCommon:583: Create process not expected to return\n"
     ]
    }
   ],
   "source": [
    "!bash html_mine.sh"
   ]
  },
  {
   "cell_type": "code",
   "execution_count": 7,
   "id": "09b6a454",
   "metadata": {},
   "outputs": [
    {
     "name": "stderr",
     "output_type": "stream",
     "text": [
      "'wget' is not recognized as an internal or external command,\n",
      "operable program or batch file.\n"
     ]
    }
   ],
   "source": [
    "!wget –V"
   ]
  },
  {
   "cell_type": "code",
   "execution_count": 8,
   "id": "1504c204",
   "metadata": {},
   "outputs": [
    {
     "name": "stderr",
     "output_type": "stream",
     "text": [
      "'sudo' is not recognized as an internal or external command,\n",
      "operable program or batch file.\n"
     ]
    }
   ],
   "source": [
    "!sudo apt-get install wget"
   ]
  },
  {
   "cell_type": "code",
   "execution_count": 13,
   "id": "44134e45",
   "metadata": {},
   "outputs": [
    {
     "data": {
      "text/plain": [
       "'C:\\\\Users\\\\User\\\\Documents\\\\notebooks\\\\BIG_DATA_ASSIGNMENT_ONE'"
      ]
     },
     "execution_count": 13,
     "metadata": {},
     "output_type": "execute_result"
    }
   ],
   "source": [
    "pwd"
   ]
  },
  {
   "cell_type": "code",
   "execution_count": 14,
   "id": "9d906c6d",
   "metadata": {},
   "outputs": [
    {
     "name": "stdout",
     "output_type": "stream",
     "text": [
      " Volume in drive C is Windows\n",
      " Volume Serial Number is 78C9-6226\n",
      "\n",
      " Directory of C:\\Users\\User\\Documents\\notebooks\\BIG_DATA_ASSIGNMENT_ONE\n",
      "\n",
      "19/03/2023  15:24    <DIR>          .\n",
      "16/03/2023  00:02    <DIR>          ..\n",
      "06/03/2023  15:29    <DIR>          .ipynb_checkpoints\n",
      "27/02/2023  15:18               215 article-ids.txt\n",
      "19/03/2023  15:24             9,352 bash.ipynb\n",
      "07/03/2023  14:56                98 check_folder_exists.sh\n",
      "07/03/2023  16:35               324 html_mine.sh\n",
      "27/02/2023  15:18             3,446 parse_article.py\n",
      "27/02/2023  15:18               109 parse_article.sh\n",
      "07/03/2023  16:37    <DIR>          wikipedia-ml-raw\n",
      "               6 File(s)         13,544 bytes\n",
      "               4 Dir(s)  406,166,667,264 bytes free\n"
     ]
    }
   ],
   "source": [
    "ls"
   ]
  },
  {
   "cell_type": "code",
   "execution_count": 16,
   "id": "47dbcea3",
   "metadata": {},
   "outputs": [
    {
     "name": "stderr",
     "output_type": "stream",
     "text": [
      "<3>WSL (8) ERROR: CreateProcessEntryCommon:574: execvpe /bin/bash failed 2\n",
      "<3>WSL (8) ERROR: CreateProcessEntryCommon:583: Create process not expected to return\n"
     ]
    }
   ],
   "source": [
    "!bash parse_article.sh"
   ]
  },
  {
   "cell_type": "code",
   "execution_count": null,
   "id": "7e1326ff",
   "metadata": {},
   "outputs": [],
   "source": []
  }
 ],
 "metadata": {
  "kernelspec": {
   "display_name": "Python 3 (ipykernel)",
   "language": "python",
   "name": "python3"
  },
  "language_info": {
   "codemirror_mode": {
    "name": "ipython",
    "version": 3
   },
   "file_extension": ".py",
   "mimetype": "text/x-python",
   "name": "python",
   "nbconvert_exporter": "python",
   "pygments_lexer": "ipython3",
   "version": "3.9.12"
  }
 },
 "nbformat": 4,
 "nbformat_minor": 5
}
